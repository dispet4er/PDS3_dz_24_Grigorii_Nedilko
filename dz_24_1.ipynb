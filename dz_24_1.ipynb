{
 "cells": [
  {
   "cell_type": "code",
   "execution_count": 1,
   "id": "d7ee12e2",
   "metadata": {},
   "outputs": [],
   "source": [
    "#first economist\n",
    "p1 = 0.1\n",
    "#second economist\n",
    "p2 = 0.2\n",
    "#docs_1\n",
    "n1 = 40\n",
    "#docs_2\n",
    "n2 = 60\n",
    "n = n1 + n2"
   ]
  },
  {
   "cell_type": "code",
   "execution_count": 3,
   "id": "7515558b",
   "metadata": {},
   "outputs": [
    {
     "data": {
      "text/plain": [
       "0.25000000000000006"
      ]
     },
     "execution_count": 3,
     "metadata": {},
     "output_type": "execute_result"
    }
   ],
   "source": [
    "#first_with_error\n",
    "p_error = (p1 * n1 + p2 * n2) / n\n",
    "p_first = n1 / n\n",
    "p_error_first = p1 * p_first\n",
    "p = p_error_first / p_error\n",
    "p"
   ]
  },
  {
   "cell_type": "code",
   "execution_count": null,
   "id": "120d361e",
   "metadata": {},
   "outputs": [],
   "source": []
  }
 ],
 "metadata": {
  "kernelspec": {
   "display_name": "Python 3 (ipykernel)",
   "language": "python",
   "name": "python3"
  },
  "language_info": {
   "codemirror_mode": {
    "name": "ipython",
    "version": 3
   },
   "file_extension": ".py",
   "mimetype": "text/x-python",
   "name": "python",
   "nbconvert_exporter": "python",
   "pygments_lexer": "ipython3",
   "version": "3.10.8"
  }
 },
 "nbformat": 4,
 "nbformat_minor": 5
}

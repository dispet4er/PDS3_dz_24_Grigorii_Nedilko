{
 "cells": [
  {
   "cell_type": "code",
   "execution_count": 1,
   "id": "77068a84",
   "metadata": {},
   "outputs": [],
   "source": [
    "set1 = [(0.5, 1000), (0.3, 1500), (0.2, 2000)]\n",
    "set2 = [(0.4, 1000), (0.4, 1500), (0.2, 1750)]"
   ]
  },
  {
   "cell_type": "code",
   "execution_count": 2,
   "id": "8ae2c9be",
   "metadata": {},
   "outputs": [],
   "source": [
    "set1_expected_profit = sum([p * x for p, x in set1])\n",
    "set2_expected_profit = sum([p * x for p, x in set2])"
   ]
  },
  {
   "cell_type": "code",
   "execution_count": 3,
   "id": "27a701ac",
   "metadata": {},
   "outputs": [],
   "source": [
    "set1_risk = sum([p for p, x in set1])\n",
    "set2_risk = sum([p for p, x in set2])"
   ]
  },
  {
   "cell_type": "code",
   "execution_count": 4,
   "id": "de1a02d6",
   "metadata": {},
   "outputs": [
    {
     "name": "stdout",
     "output_type": "stream",
     "text": [
      "Set 1 expected profit: 1350.0\n",
      "Set 2 expected profit: 1350.0\n",
      "Set 1 risk: 1.0\n",
      "Set 2 risk: 1.0\n"
     ]
    }
   ],
   "source": [
    "print(\"Set 1 expected profit:\", set1_expected_profit)\n",
    "print(\"Set 2 expected profit:\", set2_expected_profit)\n",
    "\n",
    "print(\"Set 1 risk:\", set1_risk)\n",
    "print(\"Set 2 risk:\", set2_risk)"
   ]
  },
  {
   "cell_type": "code",
   "execution_count": 5,
   "id": "32f43f1f",
   "metadata": {},
   "outputs": [
    {
     "name": "stdout",
     "output_type": "stream",
     "text": [
      "Recommendation: Produce and sell Set 1\n"
     ]
    }
   ],
   "source": [
    "if set1_expected_profit >= set2_expected_profit:\n",
    "    print(\"Recommendation: Produce and sell Set 1\")\n",
    "else:\n",
    "    print(\"Recommendation: Produce and sell Set 2\")"
   ]
  },
  {
   "cell_type": "code",
   "execution_count": null,
   "id": "f3d1622f",
   "metadata": {},
   "outputs": [],
   "source": []
  }
 ],
 "metadata": {
  "kernelspec": {
   "display_name": "Python 3 (ipykernel)",
   "language": "python",
   "name": "python3"
  },
  "language_info": {
   "codemirror_mode": {
    "name": "ipython",
    "version": 3
   },
   "file_extension": ".py",
   "mimetype": "text/x-python",
   "name": "python",
   "nbconvert_exporter": "python",
   "pygments_lexer": "ipython3",
   "version": "3.10.8"
  }
 },
 "nbformat": 4,
 "nbformat_minor": 5
}
